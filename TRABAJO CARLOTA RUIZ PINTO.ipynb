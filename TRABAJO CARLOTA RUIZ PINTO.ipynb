{
 "cells": [
  {
   "cell_type": "code",
   "execution_count": 1,
   "id": "46fdff7a",
   "metadata": {},
   "outputs": [],
   "source": [
    "###TRABAJO VOLUNTARIO###"
   ]
  },
  {
   "cell_type": "code",
   "execution_count": 2,
   "id": "93abd20c",
   "metadata": {},
   "outputs": [],
   "source": [
    "#carga de datos\n",
    "\n",
    "import csv\n",
    "\n",
    "def lee_hospital(fichero):\n",
    "    registros=[]\n",
    "    with open(fichero,'r', encoding='utf-8') as f:\n",
    "        lector = csv.reader(f, delimiter=';')\n",
    "        next(lector)\n",
    "        registros = [(sexo.upper(), Hospital, estadiopostqx, int(ggextirpados), int(ggafectos), recaida.upper()) \n",
    "                     for sexo, Hospital, estadiopostqx, ggextirpados, ggafectos, recaida in lector]\n",
    "    return registros\n",
    "\n",
    " "
   ]
  },
  {
   "cell_type": "code",
   "execution_count": 3,
   "id": "5868c6ed",
   "metadata": {},
   "outputs": [
    {
     "name": "stdout",
     "output_type": "stream",
     "text": [
      "413 [('HOMBRE', 'Carlos haya', 'IIc', 10, 0, 'SI'), ('HOMBRE', 'Carlos haya', 'IIa', 9, 0, 'NO')]\n"
     ]
    }
   ],
   "source": [
    "registros = lee_hospital('C:\\\\Users\\\\carlo\\\\Downloads\\\\trabajoFP\\\\datos_pacientes.csv')\n",
    "\n",
    "print(len(registros), registros[:2])"
   ]
  },
  {
   "cell_type": "code",
   "execution_count": 4,
   "id": "0a8c5d18",
   "metadata": {},
   "outputs": [],
   "source": [
    "#Cuantos pacientes han recaido?"
   ]
  },
  {
   "cell_type": "code",
   "execution_count": 5,
   "id": "f0be6673",
   "metadata": {},
   "outputs": [
    {
     "name": "stdout",
     "output_type": "stream",
     "text": [
      "Número de pacientes en recaída: 121\n"
     ]
    }
   ],
   "source": [
    "def pacientes_recaida1(registros):\n",
    "    return sum(1 for paciente in registros if paciente[5] == 'SI')\n",
    "\n",
    "resultado1 = pacientes_recaida1(registros)\n",
    "print('Número de pacientes en recaída: {}'.format(resultado1))"
   ]
  },
  {
   "cell_type": "code",
   "execution_count": 6,
   "id": "4bce85f1",
   "metadata": {},
   "outputs": [],
   "source": [
    "#Muestra una lista ordena alfabeticamente de los hospitales nombrados en el fichero "
   ]
  },
  {
   "cell_type": "code",
   "execution_count": 7,
   "id": "c58a50df",
   "metadata": {},
   "outputs": [
    {
     "name": "stdout",
     "output_type": "stream",
     "text": [
      "Hospitales únicos en el fichero:\n",
      "Antequera\n",
      "Axarquia\n",
      "Carlos haya\n",
      "Clinico\n",
      "Hospital Costa del Sol\n",
      "Ronda\n",
      "Velez\n",
      "desconocido\n"
     ]
    }
   ],
   "source": [
    "def lista_hospitales(fichero):\n",
    "    hospitales_unicos = sorted(set(hospital[1] for hospital in lee_hospital(fichero)))\n",
    "    \n",
    "    print('Hospitales únicos en el fichero:')\n",
    "    for hospital in hospitales_unicos:\n",
    "        print(hospital)\n",
    "        \n",
    "fichero = 'C:\\\\Users\\\\carlo\\\\Downloads\\\\trabajoFP\\\\datos_pacientes.csv'\n",
    "lista_hospitales(fichero)"
   ]
  },
  {
   "cell_type": "code",
   "execution_count": 8,
   "id": "5e653b8f",
   "metadata": {},
   "outputs": [],
   "source": [
    "#Obtener una lista ordena alfabeticamente de los distintos tipos de estadios que hay en el csv\n",
    "#Donde I: etapa inical, IIIa,IIIb,IIIc: tercer nivel de los distintos subgrupos a b y c, IV etapa avanzada y \n",
    "#RC respuesta complta al tratamiento"
   ]
  },
  {
   "cell_type": "code",
   "execution_count": 9,
   "id": "03d75c29",
   "metadata": {},
   "outputs": [
    {
     "name": "stdout",
     "output_type": "stream",
     "text": [
      "['0', 'I', 'IIIa', 'IIIb', 'IIIc', 'IIa', 'IIb', 'IIc', 'IVa', 'IVb', 'RC']\n"
     ]
    }
   ],
   "source": [
    "def calcula_tipos(registros):\n",
    "    return sorted(list({r[2] for r in registros}))\n",
    "\n",
    "fichero = 'C:\\\\Users\\\\carlo\\\\Downloads\\\\trabajoFP\\\\datos_pacientes.csv'\n",
    "registros = lee_hospital(fichero)\n",
    "resultado = calcula_tipos(registros)\n",
    "print(resultado)"
   ]
  },
  {
   "cell_type": "code",
   "execution_count": 10,
   "id": "d3403bea",
   "metadata": {},
   "outputs": [],
   "source": [
    "#La función contar_pacientes_por_hospital indica la cantidad de pacientes para cada hospital."
   ]
  },
  {
   "cell_type": "code",
   "execution_count": 11,
   "id": "513158b8",
   "metadata": {},
   "outputs": [],
   "source": [
    "def contar_pacientes_por_hospital(registros):\n",
    "    conteo_por_hospital = {}\n",
    "\n",
    "    for registro in registros:\n",
    "        hospital = registro[1]\n",
    "        if hospital not in conteo_por_hospital:\n",
    "            conteo_por_hospital[hospital] = 1\n",
    "        else:\n",
    "            conteo_por_hospital[hospital] += 1\n",
    "\n",
    "    for hospital, cantidad in conteo_por_hospital.items():\n",
    "        print(hospital + \": \" + str(cantidad) + \" pacientes\")\n"
   ]
  },
  {
   "cell_type": "code",
   "execution_count": 12,
   "id": "31e56d47",
   "metadata": {},
   "outputs": [
    {
     "name": "stdout",
     "output_type": "stream",
     "text": [
      "Carlos haya: 214 pacientes\n",
      "Antequera: 51 pacientes\n",
      "Velez: 12 pacientes\n",
      "Clinico: 18 pacientes\n",
      "Hospital Costa del Sol: 87 pacientes\n",
      "Ronda: 3 pacientes\n",
      "Axarquia: 24 pacientes\n",
      "desconocido: 4 pacientes\n"
     ]
    }
   ],
   "source": [
    "registros = lee_hospital('C:\\\\Users\\\\carlo\\\\Downloads\\\\trabajoFP\\\\datos_pacientes.csv')\n",
    "contar_pacientes_por_hospital(registros)"
   ]
  },
  {
   "cell_type": "code",
   "execution_count": 13,
   "id": "fcd1897a",
   "metadata": {},
   "outputs": [],
   "source": [
    "#Calcula el promedio de pacientes afectados por un tipo de estadio en cada hospital.\n"
   ]
  },
  {
   "cell_type": "code",
   "execution_count": 14,
   "id": "f5a8cdf7",
   "metadata": {},
   "outputs": [
    {
     "name": "stdout",
     "output_type": "stream",
     "text": [
      "Promedio de pacientes afectados por hospital en el estadio IIIa:\n",
      "Hospital: Ronda, Promedio: 2.0\n",
      "Hospital: Clinico, Promedio: 1.0\n",
      "Hospital: Antequera, Promedio: 2.0\n",
      "Hospital: Carlos haya, Promedio: 1.4285714285714286\n",
      "Hospital: Hospital Costa del Sol, Promedio: 1.5\n"
     ]
    }
   ],
   "source": [
    "def promedio_afectados_por_hospital(registros, estadio):\n",
    "\n",
    "    # Filtrar pacientes por el tipo de estadio\n",
    "    pacientes_estadio = [paciente for paciente in registros if paciente[2] == estadio]\n",
    "\n",
    "    # Calcular promedio por hospital\n",
    "    promedios = {}\n",
    "    for hospital in set(paciente[1] for paciente in pacientes_estadio):\n",
    "        pacientes_hospital = [paciente for paciente in pacientes_estadio if paciente[1] == hospital]\n",
    "        total_pacientes = sum(paciente[4] for paciente in pacientes_hospital)\n",
    "        promedio = total_pacientes / len(pacientes_hospital)\n",
    "        promedios[hospital] = promedio\n",
    "\n",
    "    return promedios\n",
    "\n",
    "# En el estadio IIIa\n",
    "promedios_por_hospital = promedio_afectados_por_hospital(registros, 'IIIa')\n",
    "print(\"Promedio de pacientes afectados por hospital en el estadio IIIa:\")\n",
    "for hospital, promedio in promedios_por_hospital.items():\n",
    "    print(\"Hospital: \" + hospital + \", Promedio: \" + str(promedio))\n"
   ]
  },
  {
   "cell_type": "code",
   "execution_count": 15,
   "id": "837301f4",
   "metadata": {},
   "outputs": [],
   "source": [
    "# La función toma una lista de tuplas de registros y calcula qué proporción de estadio post quirúrgicos son IIIa:\n",
    "\n",
    "def proporcion_estadiopostqx(registros):\n",
    "    total=len([r for r in registros])\n",
    "    iiia=len([r for r in registros if r[2]=='IIIa'])\n",
    "    \n",
    "    return iiia/total\n",
    "\n"
   ]
  },
  {
   "cell_type": "code",
   "execution_count": 16,
   "id": "a881c1d7",
   "metadata": {},
   "outputs": [
    {
     "name": "stdout",
     "output_type": "stream",
     "text": [
      "0.06053268765133172\n"
     ]
    }
   ],
   "source": [
    "proporcion=proporcion_estadiopostqx(registros)\n",
    "print(proporcion)"
   ]
  },
  {
   "cell_type": "code",
   "execution_count": 25,
   "id": "7e5e1b9f",
   "metadata": {},
   "outputs": [],
   "source": [
    "#Toma como entrada una lista de registros, y produce como salida un diccionario cuyas claves son\n",
    "#los distintos valores del atributo hospital y los valores son el número de personas registradas por cada hospital."
   ]
  },
  {
   "cell_type": "code",
   "execution_count": 40,
   "id": "41890eb6",
   "metadata": {},
   "outputs": [],
   "source": [
    "from collections import defaultdict\n",
    "\n",
    "def contar_personas_por_hospital(registros):\n",
    "    personas_por_hospital = defaultdict(int)\n",
    "    \n",
    "    for registro in registros:\n",
    "        personas_por_hospital[registro[1]] += 1\n",
    "\n",
    "    return dict(personas_por_hospital)\n",
    "      "
   ]
  },
  {
   "cell_type": "code",
   "execution_count": 41,
   "id": "53245a60",
   "metadata": {},
   "outputs": [
    {
     "name": "stdout",
     "output_type": "stream",
     "text": [
      "[('Carlos haya', 214), ('Hospital Costa del Sol', 87), ('Antequera', 51), ('Axarquia', 24), ('Clinico', 18), ('Velez', 12), ('desconocido', 4), ('Ronda', 3)]\n"
     ]
    }
   ],
   "source": [
    "registros = lee_hospital('C:\\\\Users\\\\carlo\\\\Downloads\\\\trabajoFP\\\\datos_pacientes.csv')\n",
    "print(sorted(contar_personas_por_hospital(registros).items(), reverse=True, key=lambda x: x[1])[:9])"
   ]
  },
  {
   "cell_type": "code",
   "execution_count": 17,
   "id": "d8860ad1",
   "metadata": {},
   "outputs": [],
   "source": [
    "#Crea una gráfica de barras que muestra el número de pacientes con y sin recaída, separados por género."
   ]
  },
  {
   "cell_type": "code",
   "execution_count": 18,
   "id": "2d540ae9",
   "metadata": {},
   "outputs": [
    {
     "data": {
      "image/png": "[encoded data removed]",
      "text/plain": [
       "<Figure size 640x480 with 1 Axes>"
      ]
     },
     "metadata": {},
     "output_type": "display_data"
    }
   ],
   "source": [
    "import matplotlib.pyplot as plt\n",
    "\n",
    "def grafica_sexo_recaida(registros):\n",
    "    hombres_si = mujeres_si = hombres_no = mujeres_no = 0\n",
    "    \n",
    "    for registro in registros:\n",
    "        sexo, _, _, _, _, recaida = registro\n",
    "        \n",
    "        if sexo == 'HOMBRE' and recaida == 'SI':\n",
    "            hombres_si += 1\n",
    "        elif sexo == 'MUJER' and recaida == 'SI':\n",
    "            mujeres_si += 1\n",
    "        elif sexo == 'HOMBRE' and recaida == 'NO':\n",
    "            hombres_no += 1\n",
    "        elif sexo == 'MUJER' and recaida == 'NO':\n",
    "            mujeres_no += 1\n",
    "    \n",
    "    # Datos para la gráfica\n",
    "    categorias = ['Hombres (SI)', 'Mujeres (SI)', 'Hombres (NO)', 'Mujeres (NO)']\n",
    "    valores = [hombres_si, mujeres_si, hombres_no, mujeres_no]\n",
    "    \n",
    "    plt.bar(categorias, valores, color=['blue', 'pink', 'lightblue', 'lightpink'])\n",
    "    \n",
    "    # Para añadir nombres y título\n",
    "    plt.xlabel('Categoría')\n",
    "    plt.ylabel('Número de Pacientes')\n",
    "    plt.title('Recaída por Género')\n",
    "    \n",
    "    # Muestra la gráfica\n",
    "    plt.show()\n",
    "\n",
    "\n",
    "grafica_sexo_recaida(registros)"
   ]
  },
  {
   "cell_type": "code",
   "execution_count": null,
   "id": "848aac3a",
   "metadata": {},
   "outputs": [],
   "source": []
  }
 ],
 "metadata": {
  "kernelspec": {
   "display_name": "Python 3 (ipykernel)",
   "language": "python",
   "name": "python3"
  },
  "language_info": {
   "codemirror_mode": {
    "name": "ipython",
    "version": 3
   },
   "file_extension": ".py",
   "mimetype": "text/x-python",
   "name": "python",
   "nbconvert_exporter": "python",
   "pygments_lexer": "ipython3",
   "version": "3.11.5"
  }
 },
 "nbformat": 4,
 "nbformat_minor": 5
}
